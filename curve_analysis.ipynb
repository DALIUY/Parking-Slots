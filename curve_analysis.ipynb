import matplotlib.pyplot as plt
import cv2
import numpy as np
from PIL import Image
import pandas as pd
from datetime import datetime


class CurveAnalyzer:
    def __init__(self, image_path):
        self.image_path = image_path
        self.img = None
        self.data = None

    def load_image(self):
        """加载并预处理图像"""
        self.img = cv2.imread(self.image_path)
        self.img_rgb = cv2.cvtColor(self.img, cv2.COLOR_BGR2RGB)
        return self.img_rgb

    def extract_curve(self):
        """提取F1曲线数据点"""
        # 转换为灰度图
        gray = cv2.cvtColor(self.img, cv2.COLOR_BGR2GRAY)

        # 二值化处理
        _, binary = cv2.threshold(gray, 127, 255, cv2.THRESH_BINARY)

        # 查找轮廓
        contours, _ = cv2.findContours(binary, cv2.RETR_LIST, cv2.CHAIN_APPROX_NONE)

        # 假设最长的轮廓是F1曲线
        curve_contour = max(contours, key=len)

        # 提取x,y坐标
        points = curve_contour.squeeze()
        x = points[:, 0]
        y = self.img.shape[0] - points[:, 1]  # 反转y坐标

        # 归一化坐标
        x_norm = x / self.img.shape[1]
        y_norm = y / self.img.shape[0]

        self.data = pd.DataFrame({
            'confidence': x_norm,
            'f1_score': y_norm
        }).sort_values('confidence')

        return self.data

    def analyze_performance(self):
        """分析性能指标"""
        if self.data is None:
            self.extract_curve()

        analysis = {
            'max_f1': self.data['f1_score'].max(),
            'optimal_confidence': self.data.loc[self.data['f1_score'].idxmax(), 'confidence'],
            'average_f1': self.data['f1_score'].mean(),
            'std_f1': self.data['f1_score'].std(),
            'analysis_time': datetime.utcnow().strftime('%Y-%MM-%d %H:%M:%S')
        }

        return analysis

    def plot_analysis(self):
        """可视化分析结果"""
        plt.figure(figsize=(12, 8))

        # 原始图像
        plt.subplot(2, 2, 1)
        plt.imshow(self.img_rgb)
        plt.title('Original F1 Curve')

        # F1曲线
        plt.subplot(2, 2, 2)
        plt.plot(self.data['confidence'], self.data['f1_score'], 'b-', label='F1 Score')
        plt.fill_between(self.data['confidence'], self.data['f1_score'], alpha=0.2)
        plt.grid(True)
        plt.xlabel('Confidence Threshold')
        plt.ylabel('F1 Score')
        plt.title('Extracted F1 Curve')
        plt.legend()

        # 性能分布
        plt.subplot(2, 2, 3)
        self.data['f1_score'].hist(bins=30)
        plt.xlabel('F1 Score')
        plt.ylabel('Frequency')
        plt.title('F1 Score Distribution')

        # 添加关键统计信息
        analysis = self.analyze_performance()
        stats_text = f"""
        Max F1: {analysis['max_f1']:.3f}
        Optimal Confidence: {analysis['optimal_confidence']:.3f}
        Average F1: {analysis['average_f1']:.3f}
        Std Dev: {analysis['std_f1']:.3f}
        """
        plt.subplot(2, 2, 4)
        plt.text(0.1, 0.5, stats_text, fontsize=12)
        plt.axis('off')
        plt.title('Performance Statistics')

        plt.tight_layout()
        return plt.gcf()


# 使用示例
if __name__ == "__main__":
    analyzer = CurveAnalyzer('BoxF1_curve.png')
    analyzer.load_image()
    analyzer.extract_curve()
    fig = analyzer.plot_analysis()
    plt.show()